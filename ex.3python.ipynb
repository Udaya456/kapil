{
 "cells": [
  {
   "cell_type": "code",
   "id": "initial_id",
   "metadata": {
    "collapsed": true,
    "ExecuteTime": {
     "end_time": "2024-10-03T12:06:03.201340Z",
     "start_time": "2024-10-03T12:06:03.188423Z"
    }
   },
   "source": [
    "import numpy as np\n",
    "x= np.arange(-5,5.5,0.5)\n",
    "\n",
    "# calculate y= x^2\n",
    "y=x**2\n",
    "#print both x and y\n",
    "print(\"x values:\", x)\n",
    "print(\"y=x^2 values:\", y)"
   ],
   "outputs": [
    {
     "name": "stdout",
     "output_type": "stream",
     "text": [
      "x values: [-5.  -4.5 -4.  -3.5 -3.  -2.5 -2.  -1.5 -1.  -0.5  0.   0.5  1.   1.5\n",
      "  2.   2.5  3.   3.5  4.   4.5  5. ]\n",
      "y=x^2 values: [25.   20.25 16.   12.25  9.    6.25  4.    2.25  1.    0.25  0.    0.25\n",
      "  1.    2.25  4.    6.25  9.   12.25 16.   20.25 25.  ]\n"
     ]
    }
   ],
   "execution_count": 9
  }
 ],
 "metadata": {
  "kernelspec": {
   "display_name": "Python 3",
   "language": "python",
   "name": "python3"
  },
  "language_info": {
   "codemirror_mode": {
    "name": "ipython",
    "version": 2
   },
   "file_extension": ".py",
   "mimetype": "text/x-python",
   "name": "python",
   "nbconvert_exporter": "python",
   "pygments_lexer": "ipython2",
   "version": "2.7.6"
  }
 },
 "nbformat": 4,
 "nbformat_minor": 5
}
