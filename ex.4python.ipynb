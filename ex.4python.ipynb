{
 "cells": [
  {
   "cell_type": "code",
   "id": "initial_id",
   "metadata": {
    "collapsed": true,
    "ExecuteTime": {
     "end_time": "2024-10-03T12:16:19.048473Z",
     "start_time": "2024-10-03T12:16:19.038087Z"
    }
   },
   "source": [
    "import numpy as np\n",
    "x= np.arange(-100,100,0.01)\n",
    "\n",
    "# calculate(Y=x^2+x-11)\n",
    "Y= x**2\n",
    "#print the values of both x and Y\n",
    "print(\"x values:\", x)\n",
    "print (\"Y=x^2+x-11 values:\",Y)\n"
   ],
   "outputs": [
    {
     "name": "stdout",
     "output_type": "stream",
     "text": [
      "x values: [-100.    -99.99  -99.98 ...   99.97   99.98   99.99]\n",
      "Y=x^2+x-11 values: [10000.          9998.0001      9996.0004     ...  9994.00090002\n",
      "  9996.00040002  9998.00010002]\n"
     ]
    }
   ],
   "execution_count": 9
  }
 ],
 "metadata": {
  "kernelspec": {
   "display_name": "Python 3",
   "language": "python",
   "name": "python3"
  },
  "language_info": {
   "codemirror_mode": {
    "name": "ipython",
    "version": 2
   },
   "file_extension": ".py",
   "mimetype": "text/x-python",
   "name": "python",
   "nbconvert_exporter": "python",
   "pygments_lexer": "ipython2",
   "version": "2.7.6"
  }
 },
 "nbformat": 4,
 "nbformat_minor": 5
}
