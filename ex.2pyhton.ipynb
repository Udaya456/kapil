{
 "cells": [
  {
   "metadata": {},
   "cell_type": "raw",
   "source": [
    "name = \"Udaya Bahadur Adhikari\" # Write your name between parenthesis\n",
    "student_id =  2420250# Change your student ID here\n",
    "date_returned = \"4-10-2024\" # Write the date returned "
   ],
   "id": "c255e4acfc53ea5b"
  },
  {
   "cell_type": "code",
   "id": "initial_id",
   "metadata": {
    "collapsed": true,
    "ExecuteTime": {
     "end_time": "2024-10-03T11:52:47.908017Z",
     "start_time": "2024-10-03T11:52:47.763448Z"
    }
   },
   "source": [
    "import numpy as np\n",
    "x = np.arange(-5,5.5,0.5)\n",
    "print(x)"
   ],
   "outputs": [
    {
     "name": "stdout",
     "output_type": "stream",
     "text": [
      "[-5.  -4.5 -4.  -3.5 -3.  -2.5 -2.  -1.5 -1.  -0.5  0.   0.5  1.   1.5\n",
      "  2.   2.5  3.   3.5  4.   4.5  5. ]\n"
     ]
    }
   ],
   "execution_count": 1
  }
 ],
 "metadata": {
  "kernelspec": {
   "display_name": "Python 3",
   "language": "python",
   "name": "python3"
  },
  "language_info": {
   "codemirror_mode": {
    "name": "ipython",
    "version": 2
   },
   "file_extension": ".py",
   "mimetype": "text/x-python",
   "name": "python",
   "nbconvert_exporter": "python",
   "pygments_lexer": "ipython2",
   "version": "2.7.6"
  }
 },
 "nbformat": 4,
 "nbformat_minor": 5
}
